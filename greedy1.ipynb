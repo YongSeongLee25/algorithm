{
 "cells": [
  {
   "cell_type": "code",
   "execution_count": 21,
   "metadata": {},
   "outputs": [
    {
     "name": "stdout",
     "output_type": "stream",
     "text": [
      "4 3 2\n",
      "3 4 2 1\n",
      "시간 : 7.402209997177124\n",
      "11\n"
     ]
    }
   ],
   "source": [
    "import time\n",
    "\n",
    "times = time.time()\n",
    "\n",
    "n, m, k = map(int, input().split())\n",
    "\n",
    "data = list(map(int, input().split()))\n",
    "\n",
    "data.sort()\n",
    "\n",
    "first = data[n-1]\n",
    "second = data[n-2]\n",
    "\n",
    "result = 0\n",
    "\n",
    "while True:\n",
    "    for i in range(k):\n",
    "        if m ==0:\n",
    "            break\n",
    "        result += first\n",
    "        m-= 1\n",
    "    if m ==0:\n",
    "        break\n",
    "    result += second\n",
    "    m-=1\n",
    "\n",
    "timese = time.time()\n",
    "print('시간 :', timese - times) \n",
    "\n",
    "print(result)"
   ]
  },
  {
   "cell_type": "markdown",
   "metadata": {},
   "source": [
    "# 나의 해답"
   ]
  },
  {
   "cell_type": "code",
   "execution_count": 19,
   "metadata": {},
   "outputs": [
    {
     "name": "stdout",
     "output_type": "stream",
     "text": [
      "4 3 2\n",
      "3 4 2 1\n",
      "[1, 2, 3, 4]\n",
      "4\n",
      "3\n",
      "시간 : 4.777228355407715\n",
      "11\n"
     ]
    }
   ],
   "source": [
    "import time\n",
    "\n",
    "times = time.time()\n",
    "\n",
    "n, m ,k = list(map(int, input().split()))\n",
    "data = list(map(int, input().split()))\n",
    "\n",
    "data.sort()\n",
    "print(data)\n",
    "first = data[n-1]\n",
    "print(first)\n",
    "second = data[n-2]\n",
    "print(second)\n",
    "\n",
    "count = 0\n",
    "\n",
    "while True:\n",
    "    for i in range(k):\n",
    "        if m != 0:\n",
    "            count += first\n",
    "            m -= 1\n",
    "    if m != 0:\n",
    "        count += second\n",
    "        m-= 1\n",
    "    if m == 0:\n",
    "        break\n",
    "\n",
    "timese = time.time()\n",
    "print('시간 :', timese - times)        \n",
    "print(count)\n"
   ]
  },
  {
   "cell_type": "markdown",
   "metadata": {},
   "source": [
    "# 제일 효율적인 알고리즘"
   ]
  },
  {
   "cell_type": "code",
   "execution_count": 20,
   "metadata": {},
   "outputs": [
    {
     "name": "stdout",
     "output_type": "stream",
     "text": [
      "4 3 2\n",
      "3 4 2 1\n",
      "시간 : 4.2286951541900635\n",
      "11\n"
     ]
    }
   ],
   "source": [
    "import time\n",
    "\n",
    "times = time.time()\n",
    "\n",
    "n, m, k = list(map(int, input().split()))\n",
    "\n",
    "data = list(map(int, input().split()))\n",
    "\n",
    "data.sort()\n",
    "first = data[n-1]\n",
    "second = data[n-2]\n",
    "\n",
    "count = int(m / (k+1)) * k\n",
    "count += m% (k+1)\n",
    "\n",
    "result = 0\n",
    "\n",
    "result += (count) * first\n",
    "result += (m - count) * second\n",
    "\n",
    "timese = time.time()\n",
    "print('시간 :', timese - times) \n",
    "\n",
    "print(result)"
   ]
  }
 ],
 "metadata": {
  "kernelspec": {
   "display_name": "Python 3",
   "language": "python",
   "name": "python3"
  },
  "language_info": {
   "codemirror_mode": {
    "name": "ipython",
    "version": 3
   },
   "file_extension": ".py",
   "mimetype": "text/x-python",
   "name": "python",
   "nbconvert_exporter": "python",
   "pygments_lexer": "ipython3",
   "version": "3.7.6"
  }
 },
 "nbformat": 4,
 "nbformat_minor": 4
}
